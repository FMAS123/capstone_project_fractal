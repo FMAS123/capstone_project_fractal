{
 "cells": [
  {
   "cell_type": "code",
   "execution_count": 1,
   "id": "3a1ca495",
   "metadata": {},
   "outputs": [
    {
     "data": {
      "text/plain": [
       "['en_IN']"
      ]
     },
     "execution_count": 1,
     "metadata": {},
     "output_type": "execute_result"
    }
   ],
   "source": [
    "import pandas as pd\n",
    "from collections import defaultdict\n",
    "\n",
    "from faker import Faker\n",
    "from faker.providers import DynamicProvider\n",
    "fake = Faker(['en_IN'])\n",
    "\n",
    "# Will return ['en_US']\n",
    "fake.locales"
   ]
  },
  {
   "cell_type": "code",
   "execution_count": 15,
   "id": "33d997b2",
   "metadata": {},
   "outputs": [],
   "source": [
    "fake_data = defaultdict(list)"
   ]
  },
  {
   "cell_type": "code",
   "execution_count": 16,
   "id": "9aeafa17",
   "metadata": {},
   "outputs": [],
   "source": [
    "fake.unique.clear()\n",
    "for i in range(1,75000):\n",
    "    fake_data['orderid'].append(fake.random_int(1,25000))\n",
    "    fake_data['productid'].append(fake.random_int(1,150))\n",
    "    fake_data['quantity'].append(fake.random_int(1,10))\n",
    "    "
   ]
  },
  {
   "cell_type": "code",
   "execution_count": 17,
   "id": "8ca77726",
   "metadata": {},
   "outputs": [],
   "source": [
    "dfoi = pd.DataFrame(fake_data)"
   ]
  },
  {
   "cell_type": "code",
   "execution_count": 18,
   "id": "0f30a6a3",
   "metadata": {},
   "outputs": [
    {
     "data": {
      "text/html": [
       "<div>\n",
       "<style scoped>\n",
       "    .dataframe tbody tr th:only-of-type {\n",
       "        vertical-align: middle;\n",
       "    }\n",
       "\n",
       "    .dataframe tbody tr th {\n",
       "        vertical-align: top;\n",
       "    }\n",
       "\n",
       "    .dataframe thead th {\n",
       "        text-align: right;\n",
       "    }\n",
       "</style>\n",
       "<table border=\"1\" class=\"dataframe\">\n",
       "  <thead>\n",
       "    <tr style=\"text-align: right;\">\n",
       "      <th></th>\n",
       "      <th>orderid</th>\n",
       "      <th>productid</th>\n",
       "      <th>quantity</th>\n",
       "    </tr>\n",
       "  </thead>\n",
       "  <tbody>\n",
       "    <tr>\n",
       "      <th>0</th>\n",
       "      <td>2744</td>\n",
       "      <td>135</td>\n",
       "      <td>5</td>\n",
       "    </tr>\n",
       "    <tr>\n",
       "      <th>1</th>\n",
       "      <td>19719</td>\n",
       "      <td>25</td>\n",
       "      <td>3</td>\n",
       "    </tr>\n",
       "    <tr>\n",
       "      <th>2</th>\n",
       "      <td>5718</td>\n",
       "      <td>56</td>\n",
       "      <td>4</td>\n",
       "    </tr>\n",
       "    <tr>\n",
       "      <th>3</th>\n",
       "      <td>16827</td>\n",
       "      <td>42</td>\n",
       "      <td>5</td>\n",
       "    </tr>\n",
       "    <tr>\n",
       "      <th>4</th>\n",
       "      <td>7655</td>\n",
       "      <td>61</td>\n",
       "      <td>10</td>\n",
       "    </tr>\n",
       "    <tr>\n",
       "      <th>...</th>\n",
       "      <td>...</td>\n",
       "      <td>...</td>\n",
       "      <td>...</td>\n",
       "    </tr>\n",
       "    <tr>\n",
       "      <th>74994</th>\n",
       "      <td>1037</td>\n",
       "      <td>97</td>\n",
       "      <td>9</td>\n",
       "    </tr>\n",
       "    <tr>\n",
       "      <th>74995</th>\n",
       "      <td>7776</td>\n",
       "      <td>118</td>\n",
       "      <td>5</td>\n",
       "    </tr>\n",
       "    <tr>\n",
       "      <th>74996</th>\n",
       "      <td>3749</td>\n",
       "      <td>45</td>\n",
       "      <td>1</td>\n",
       "    </tr>\n",
       "    <tr>\n",
       "      <th>74997</th>\n",
       "      <td>23795</td>\n",
       "      <td>22</td>\n",
       "      <td>5</td>\n",
       "    </tr>\n",
       "    <tr>\n",
       "      <th>74998</th>\n",
       "      <td>13770</td>\n",
       "      <td>142</td>\n",
       "      <td>6</td>\n",
       "    </tr>\n",
       "  </tbody>\n",
       "</table>\n",
       "<p>74999 rows × 3 columns</p>\n",
       "</div>"
      ],
      "text/plain": [
       "       orderid  productid  quantity\n",
       "0         2744        135         5\n",
       "1        19719         25         3\n",
       "2         5718         56         4\n",
       "3        16827         42         5\n",
       "4         7655         61        10\n",
       "...        ...        ...       ...\n",
       "74994     1037         97         9\n",
       "74995     7776        118         5\n",
       "74996     3749         45         1\n",
       "74997    23795         22         5\n",
       "74998    13770        142         6\n",
       "\n",
       "[74999 rows x 3 columns]"
      ]
     },
     "execution_count": 18,
     "metadata": {},
     "output_type": "execute_result"
    }
   ],
   "source": [
    "dfoi"
   ]
  },
  {
   "cell_type": "code",
   "execution_count": 22,
   "id": "ddf1a177",
   "metadata": {},
   "outputs": [
    {
     "data": {
      "text/plain": [
       "23775"
      ]
     },
     "execution_count": 22,
     "metadata": {},
     "output_type": "execute_result"
    }
   ],
   "source": [
    "len(dfoi['orderid'].unique())"
   ]
  },
  {
   "cell_type": "code",
   "execution_count": 23,
   "id": "27280cd2",
   "metadata": {},
   "outputs": [
    {
     "data": {
      "text/plain": [
       "150"
      ]
     },
     "execution_count": 23,
     "metadata": {},
     "output_type": "execute_result"
    }
   ],
   "source": [
    "len(dfoi['productid'].unique())"
   ]
  },
  {
   "cell_type": "code",
   "execution_count": 27,
   "id": "dd2c9014",
   "metadata": {},
   "outputs": [],
   "source": [
    "import psycopg2"
   ]
  },
  {
   "cell_type": "code",
   "execution_count": 28,
   "id": "7bbefcdd",
   "metadata": {},
   "outputs": [],
   "source": [
    "#establishing the connection\n",
    "conn = psycopg2.connect(\n",
    "   database=\"postgres\", user='postgres', password='Krishna839#', host='34.122.187.243', port= '5432'\n",
    ")\n",
    "#Creating a cursor object using the cursor() method\n",
    "cursor = conn.cursor()\n",
    "\n",
    "\n"
   ]
  },
  {
   "cell_type": "code",
   "execution_count": 29,
   "id": "ccdef038",
   "metadata": {},
   "outputs": [],
   "source": [
    "create_table = ''' drop table if exists order_items; create table order_items(\n",
    "                                orderid int ,\n",
    "                                productid int,\n",
    "                                quantity int,\n",
    "                                CONSTRAINT fk_product\n",
    "                                    FOREIGN KEY(productid) \n",
    "                                        REFERENCES product_master(productid))'''\n"
   ]
  },
  {
   "cell_type": "code",
   "execution_count": 30,
   "id": "1c1f6cef",
   "metadata": {},
   "outputs": [],
   "source": [
    "cursor.execute(create_table)\n",
    "conn.commit()"
   ]
  },
  {
   "cell_type": "code",
   "execution_count": null,
   "id": "82fcdf89",
   "metadata": {},
   "outputs": [],
   "source": []
  },
  {
   "cell_type": "code",
   "execution_count": 31,
   "id": "ec6e40f1",
   "metadata": {},
   "outputs": [],
   "source": [
    "dfoi.to_csv(\"order_items\", index=False, header=False)"
   ]
  },
  {
   "cell_type": "code",
   "execution_count": null,
   "id": "1e7462cc",
   "metadata": {},
   "outputs": [],
   "source": []
  }
 ],
 "metadata": {
  "kernelspec": {
   "display_name": "Python 3",
   "language": "python",
   "name": "python3"
  },
  "language_info": {
   "codemirror_mode": {
    "name": "ipython",
    "version": 3
   },
   "file_extension": ".py",
   "mimetype": "text/x-python",
   "name": "python",
   "nbconvert_exporter": "python",
   "pygments_lexer": "ipython3",
   "version": "3.8.8"
  }
 },
 "nbformat": 4,
 "nbformat_minor": 5
}
