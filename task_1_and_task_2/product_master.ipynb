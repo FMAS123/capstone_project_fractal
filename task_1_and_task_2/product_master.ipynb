{
 "cells": [
  {
   "cell_type": "code",
   "execution_count": 12,
   "id": "c41495ff",
   "metadata": {},
   "outputs": [
    {
     "data": {
      "text/plain": [
       "['en_IN']"
      ]
     },
     "execution_count": 12,
     "metadata": {},
     "output_type": "execute_result"
    }
   ],
   "source": [
    "import pandas as pd\n",
    "from collections import defaultdict\n",
    "\n",
    "from faker import Faker\n",
    "from faker.providers import DynamicProvider\n",
    "fake = Faker(['en_IN'])\n",
    "\n",
    "# Will return ['en_US']\n",
    "fake.locales"
   ]
  },
  {
   "cell_type": "code",
   "execution_count": 168,
   "id": "c166e852",
   "metadata": {},
   "outputs": [
    {
     "data": {
      "text/plain": [
       "'4KG'"
      ]
     },
     "execution_count": 168,
     "metadata": {},
     "output_type": "execute_result"
    }
   ],
   "source": [
    "Product = DynamicProvider(\n",
    "     provider_name=\"Product\",\n",
    "     elements=[\"ashirvad ata\", \"Sugar\", \"Jaggery\", \"Steamed rice\", \"Basmati rice\", \"Maida\", \"Besan flour\", \"Tamarind\", \"Red chilli\", \"Toor dal\", \"moong dal\", \"Chana dal\", \"Rajma\", \"Peanuts\", \"Crystal salt\", \"Dhania powder\", \"Biryani masala\", \"Tea powder\", \"coffee powder\", \"Pepper\", \"Dates\", \"Cinnamon\", \"Badam\", \"Noodles\", \"Pasta\", \"Butter\", \"Curd\", \"Paneer\", \"Tooth paste\", \"Body lotion\", \"Deodarant\", \"Floor cleaner\", \"Cooking oil\", \"Coconut oil\", \"Garbage bags\", \"Dettol\", \"Mosquito liquid\", \"Olive oil\", \"Cashew nuts\", \"Wheat rava\", \"Milk\", \"Egg Masala\", \"Chicken Masala\", \"Chat Masala\", \"Sauce\", \"Honey\", \"Saffron\", \"Cumin\", \"CornFlour Atta\", \"Chole Masala\", \"Onion\", \"Watermelon\", \"Mango\", \"Banana\", \"Orange\", \"Grapes\", \"Kiwi\"],\n",
    ")\n",
    "\n",
    "SKU = DynamicProvider(\n",
    "     provider_name=\"SKU\",\n",
    "     elements=[\"1KG\", \"2KG\", \"3KG\", \"4KG\", \"5KG\", \"6KG\", \"7KG\",\"SPKT\", \"LPKT\", \"1Ltr\", \"5Ltr\", \"10Ltr\"],\n",
    ")\n",
    " \n",
    "\n",
    "fake = Faker(['en_IN'])\n",
    "\n",
    "# then add new provider to faker instance\n",
    "fake.add_provider(Product)\n",
    "fake.add_provider(SKU)\n",
    "\n",
    "# now you can use:\n",
    "fake.Product()\n",
    "fake.SKU()\n",
    "# 'dr.'"
   ]
  },
  {
   "cell_type": "code",
   "execution_count": 226,
   "id": "bd6df6b2",
   "metadata": {},
   "outputs": [],
   "source": [
    "import random\n",
    "fake_data = defaultdict(list)"
   ]
  },
  {
   "cell_type": "code",
   "execution_count": 227,
   "id": "4b70521e",
   "metadata": {},
   "outputs": [],
   "source": [
    "fake.unique.clear()\n",
    "for i in range(1,151):\n",
    "    fake_data['productid'].append(i)\n",
    "    fake_data['productcode'].append(fake.unique.bothify(text = '?##'))\n",
    "    fake_data['productname'].append(fake.Product())\n",
    "    fake_data['sku'].append(fake.SKU())\n",
    "    fake_data['rate'].append(fake.random_int(1,200))\n",
    "    fake_data['isactive'].append(fake.pybool())    \n",
    "    "
   ]
  },
  {
   "cell_type": "code",
   "execution_count": 228,
   "id": "dedce442",
   "metadata": {},
   "outputs": [],
   "source": [
    "dfp = pd.DataFrame(fake_data)"
   ]
  },
  {
   "cell_type": "code",
   "execution_count": 229,
   "id": "be6ad291",
   "metadata": {},
   "outputs": [
    {
     "data": {
      "text/html": [
       "<div>\n",
       "<style scoped>\n",
       "    .dataframe tbody tr th:only-of-type {\n",
       "        vertical-align: middle;\n",
       "    }\n",
       "\n",
       "    .dataframe tbody tr th {\n",
       "        vertical-align: top;\n",
       "    }\n",
       "\n",
       "    .dataframe thead th {\n",
       "        text-align: right;\n",
       "    }\n",
       "</style>\n",
       "<table border=\"1\" class=\"dataframe\">\n",
       "  <thead>\n",
       "    <tr style=\"text-align: right;\">\n",
       "      <th></th>\n",
       "      <th>productid</th>\n",
       "      <th>productcode</th>\n",
       "      <th>productname</th>\n",
       "      <th>sku</th>\n",
       "      <th>rate</th>\n",
       "      <th>isactive</th>\n",
       "    </tr>\n",
       "  </thead>\n",
       "  <tbody>\n",
       "    <tr>\n",
       "      <th>0</th>\n",
       "      <td>1</td>\n",
       "      <td>d05</td>\n",
       "      <td>moong dal</td>\n",
       "      <td>4KG</td>\n",
       "      <td>46</td>\n",
       "      <td>False</td>\n",
       "    </tr>\n",
       "    <tr>\n",
       "      <th>1</th>\n",
       "      <td>2</td>\n",
       "      <td>B77</td>\n",
       "      <td>Curd</td>\n",
       "      <td>5Ltr</td>\n",
       "      <td>112</td>\n",
       "      <td>True</td>\n",
       "    </tr>\n",
       "    <tr>\n",
       "      <th>2</th>\n",
       "      <td>3</td>\n",
       "      <td>d45</td>\n",
       "      <td>Body lotion</td>\n",
       "      <td>7KG</td>\n",
       "      <td>9</td>\n",
       "      <td>False</td>\n",
       "    </tr>\n",
       "    <tr>\n",
       "      <th>3</th>\n",
       "      <td>4</td>\n",
       "      <td>T20</td>\n",
       "      <td>Dettol</td>\n",
       "      <td>5KG</td>\n",
       "      <td>187</td>\n",
       "      <td>False</td>\n",
       "    </tr>\n",
       "    <tr>\n",
       "      <th>4</th>\n",
       "      <td>5</td>\n",
       "      <td>F96</td>\n",
       "      <td>Noodles</td>\n",
       "      <td>4KG</td>\n",
       "      <td>43</td>\n",
       "      <td>True</td>\n",
       "    </tr>\n",
       "    <tr>\n",
       "      <th>...</th>\n",
       "      <td>...</td>\n",
       "      <td>...</td>\n",
       "      <td>...</td>\n",
       "      <td>...</td>\n",
       "      <td>...</td>\n",
       "      <td>...</td>\n",
       "    </tr>\n",
       "    <tr>\n",
       "      <th>145</th>\n",
       "      <td>146</td>\n",
       "      <td>s52</td>\n",
       "      <td>Orange</td>\n",
       "      <td>1Ltr</td>\n",
       "      <td>63</td>\n",
       "      <td>False</td>\n",
       "    </tr>\n",
       "    <tr>\n",
       "      <th>146</th>\n",
       "      <td>147</td>\n",
       "      <td>r04</td>\n",
       "      <td>Mango</td>\n",
       "      <td>1KG</td>\n",
       "      <td>163</td>\n",
       "      <td>True</td>\n",
       "    </tr>\n",
       "    <tr>\n",
       "      <th>147</th>\n",
       "      <td>148</td>\n",
       "      <td>f42</td>\n",
       "      <td>Watermelon</td>\n",
       "      <td>1KG</td>\n",
       "      <td>124</td>\n",
       "      <td>True</td>\n",
       "    </tr>\n",
       "    <tr>\n",
       "      <th>148</th>\n",
       "      <td>149</td>\n",
       "      <td>A13</td>\n",
       "      <td>Sugar</td>\n",
       "      <td>3KG</td>\n",
       "      <td>174</td>\n",
       "      <td>True</td>\n",
       "    </tr>\n",
       "    <tr>\n",
       "      <th>149</th>\n",
       "      <td>150</td>\n",
       "      <td>Z43</td>\n",
       "      <td>Butter</td>\n",
       "      <td>10Ltr</td>\n",
       "      <td>140</td>\n",
       "      <td>True</td>\n",
       "    </tr>\n",
       "  </tbody>\n",
       "</table>\n",
       "<p>150 rows × 6 columns</p>\n",
       "</div>"
      ],
      "text/plain": [
       "     productid productcode  productname    sku  rate  isactive\n",
       "0            1         d05    moong dal    4KG    46     False\n",
       "1            2         B77         Curd   5Ltr   112      True\n",
       "2            3         d45  Body lotion    7KG     9     False\n",
       "3            4         T20       Dettol    5KG   187     False\n",
       "4            5         F96      Noodles    4KG    43      True\n",
       "..         ...         ...          ...    ...   ...       ...\n",
       "145        146         s52       Orange   1Ltr    63     False\n",
       "146        147         r04        Mango    1KG   163      True\n",
       "147        148         f42   Watermelon    1KG   124      True\n",
       "148        149         A13        Sugar    3KG   174      True\n",
       "149        150         Z43       Butter  10Ltr   140      True\n",
       "\n",
       "[150 rows x 6 columns]"
      ]
     },
     "execution_count": 229,
     "metadata": {},
     "output_type": "execute_result"
    }
   ],
   "source": [
    "dfp"
   ]
  },
  {
   "cell_type": "code",
   "execution_count": 230,
   "id": "f9482784",
   "metadata": {},
   "outputs": [
    {
     "data": {
      "text/plain": [
       "150"
      ]
     },
     "execution_count": 230,
     "metadata": {},
     "output_type": "execute_result"
    }
   ],
   "source": [
    "len(dfp['productid'].unique())"
   ]
  },
  {
   "cell_type": "code",
   "execution_count": 231,
   "id": "aefe43e9",
   "metadata": {},
   "outputs": [
    {
     "data": {
      "text/plain": [
       "150"
      ]
     },
     "execution_count": 231,
     "metadata": {},
     "output_type": "execute_result"
    }
   ],
   "source": [
    "len(dfp['productcode'].unique())"
   ]
  },
  {
   "cell_type": "code",
   "execution_count": 232,
   "id": "eda47aed",
   "metadata": {},
   "outputs": [
    {
     "data": {
      "text/plain": [
       "51"
      ]
     },
     "execution_count": 232,
     "metadata": {},
     "output_type": "execute_result"
    }
   ],
   "source": [
    "len(dfp['productname'].unique())"
   ]
  },
  {
   "cell_type": "code",
   "execution_count": 233,
   "id": "cdb98ee4",
   "metadata": {},
   "outputs": [
    {
     "data": {
      "text/plain": [
       "12"
      ]
     },
     "execution_count": 233,
     "metadata": {},
     "output_type": "execute_result"
    }
   ],
   "source": [
    "len(dfp['sku'].unique())"
   ]
  },
  {
   "cell_type": "code",
   "execution_count": 234,
   "id": "13831fe1",
   "metadata": {},
   "outputs": [
    {
     "data": {
      "text/plain": [
       "108"
      ]
     },
     "execution_count": 234,
     "metadata": {},
     "output_type": "execute_result"
    }
   ],
   "source": [
    "len(dfp['rate'].unique())"
   ]
  },
  {
   "cell_type": "code",
   "execution_count": 235,
   "id": "2d81c12d",
   "metadata": {},
   "outputs": [
    {
     "data": {
      "text/plain": [
       "2"
      ]
     },
     "execution_count": 235,
     "metadata": {},
     "output_type": "execute_result"
    }
   ],
   "source": [
    "len(dfp['isactive'].unique())"
   ]
  },
  {
   "cell_type": "code",
   "execution_count": 236,
   "id": "a6bc8ef8",
   "metadata": {},
   "outputs": [
    {
     "data": {
      "text/plain": [
       "0"
      ]
     },
     "execution_count": 236,
     "metadata": {},
     "output_type": "execute_result"
    }
   ],
   "source": [
    "dfp['productid'].duplicated().sum()"
   ]
  },
  {
   "cell_type": "code",
   "execution_count": null,
   "id": "dc859402",
   "metadata": {},
   "outputs": [],
   "source": []
  },
  {
   "cell_type": "code",
   "execution_count": null,
   "id": "5928ea8f",
   "metadata": {},
   "outputs": [],
   "source": []
  },
  {
   "cell_type": "code",
   "execution_count": 237,
   "id": "c331c6c0",
   "metadata": {},
   "outputs": [],
   "source": [
    "import psycopg2"
   ]
  },
  {
   "cell_type": "code",
   "execution_count": 238,
   "id": "7b0c7f24",
   "metadata": {},
   "outputs": [],
   "source": [
    "#establishing the connection\n",
    "conn = psycopg2.connect(\n",
    "   database=\"postgres\", user='postgres', password='Krishna839#', host='34.122.187.243', port= '5432'\n",
    ")\n",
    "#Creating a cursor object using the cursor() method\n",
    "cursor = conn.cursor()\n",
    "\n",
    "\n"
   ]
  },
  {
   "cell_type": "code",
   "execution_count": 239,
   "id": "c6a04523",
   "metadata": {},
   "outputs": [],
   "source": [
    "create_table = ''' drop table if exists product_master; create table product_master(\n",
    "                                productid int primary key,\n",
    "                                productcode varchar(255),\n",
    "                                productname varchar(255),\n",
    "                                sku varchar(255),\n",
    "                                rate int,\n",
    "                                isactive varchar(255))'''\n"
   ]
  },
  {
   "cell_type": "code",
   "execution_count": 240,
   "id": "7382029c",
   "metadata": {},
   "outputs": [],
   "source": [
    "cursor.execute(create_table)\n",
    "conn.commit()"
   ]
  },
  {
   "cell_type": "code",
   "execution_count": null,
   "id": "da752572",
   "metadata": {},
   "outputs": [],
   "source": []
  },
  {
   "cell_type": "code",
   "execution_count": 241,
   "id": "ccc9375e",
   "metadata": {},
   "outputs": [
    {
     "name": "stdout",
     "output_type": "stream",
     "text": [
      "1 record inserted 1\n",
      "2 record inserted 2\n",
      "3 record inserted 3\n",
      "4 record inserted 4\n",
      "5 record inserted 5\n",
      "6 record inserted 6\n",
      "7 record inserted 7\n",
      "8 record inserted 8\n",
      "9 record inserted 9\n",
      "10 record inserted 10\n",
      "11 record inserted 11\n",
      "12 record inserted 12\n",
      "13 record inserted 13\n",
      "14 record inserted 14\n",
      "15 record inserted 15\n",
      "16 record inserted 16\n",
      "17 record inserted 17\n",
      "18 record inserted 18\n",
      "19 record inserted 19\n",
      "20 record inserted 20\n",
      "21 record inserted 21\n",
      "22 record inserted 22\n",
      "23 record inserted 23\n",
      "24 record inserted 24\n",
      "25 record inserted 25\n",
      "26 record inserted 26\n",
      "27 record inserted 27\n",
      "28 record inserted 28\n",
      "29 record inserted 29\n",
      "30 record inserted 30\n",
      "31 record inserted 31\n",
      "32 record inserted 32\n",
      "33 record inserted 33\n",
      "34 record inserted 34\n",
      "35 record inserted 35\n",
      "36 record inserted 36\n",
      "37 record inserted 37\n",
      "38 record inserted 38\n",
      "39 record inserted 39\n",
      "40 record inserted 40\n",
      "41 record inserted 41\n",
      "42 record inserted 42\n",
      "43 record inserted 43\n",
      "44 record inserted 44\n",
      "45 record inserted 45\n",
      "46 record inserted 46\n",
      "47 record inserted 47\n",
      "48 record inserted 48\n",
      "49 record inserted 49\n",
      "50 record inserted 50\n",
      "51 record inserted 51\n",
      "52 record inserted 52\n",
      "53 record inserted 53\n",
      "54 record inserted 54\n",
      "55 record inserted 55\n",
      "56 record inserted 56\n",
      "57 record inserted 57\n",
      "58 record inserted 58\n",
      "59 record inserted 59\n",
      "60 record inserted 60\n",
      "61 record inserted 61\n",
      "62 record inserted 62\n",
      "63 record inserted 63\n",
      "64 record inserted 64\n",
      "65 record inserted 65\n",
      "66 record inserted 66\n",
      "67 record inserted 67\n",
      "68 record inserted 68\n",
      "69 record inserted 69\n",
      "70 record inserted 70\n",
      "71 record inserted 71\n",
      "72 record inserted 72\n",
      "73 record inserted 73\n",
      "74 record inserted 74\n",
      "75 record inserted 75\n",
      "76 record inserted 76\n",
      "77 record inserted 77\n",
      "78 record inserted 78\n",
      "79 record inserted 79\n",
      "80 record inserted 80\n",
      "81 record inserted 81\n",
      "82 record inserted 82\n",
      "83 record inserted 83\n",
      "84 record inserted 84\n",
      "85 record inserted 85\n",
      "86 record inserted 86\n",
      "87 record inserted 87\n",
      "88 record inserted 88\n",
      "89 record inserted 89\n",
      "90 record inserted 90\n",
      "91 record inserted 91\n",
      "92 record inserted 92\n",
      "93 record inserted 93\n",
      "94 record inserted 94\n",
      "95 record inserted 95\n",
      "96 record inserted 96\n",
      "97 record inserted 97\n",
      "98 record inserted 98\n",
      "99 record inserted 99\n",
      "100 record inserted 100\n",
      "101 record inserted 101\n",
      "102 record inserted 102\n",
      "103 record inserted 103\n",
      "104 record inserted 104\n",
      "105 record inserted 105\n",
      "106 record inserted 106\n",
      "107 record inserted 107\n",
      "108 record inserted 108\n",
      "109 record inserted 109\n",
      "110 record inserted 110\n",
      "111 record inserted 111\n",
      "112 record inserted 112\n",
      "113 record inserted 113\n",
      "114 record inserted 114\n",
      "115 record inserted 115\n",
      "116 record inserted 116\n",
      "117 record inserted 117\n",
      "118 record inserted 118\n",
      "119 record inserted 119\n",
      "120 record inserted 120\n",
      "121 record inserted 121\n",
      "122 record inserted 122\n",
      "123 record inserted 123\n",
      "124 record inserted 124\n",
      "125 record inserted 125\n",
      "126 record inserted 126\n",
      "127 record inserted 127\n",
      "128 record inserted 128\n",
      "129 record inserted 129\n",
      "130 record inserted 130\n",
      "131 record inserted 131\n",
      "132 record inserted 132\n",
      "133 record inserted 133\n",
      "134 record inserted 134\n",
      "135 record inserted 135\n",
      "136 record inserted 136\n",
      "137 record inserted 137\n",
      "138 record inserted 138\n",
      "139 record inserted 139\n",
      "140 record inserted 140\n",
      "141 record inserted 141\n",
      "142 record inserted 142\n",
      "143 record inserted 143\n",
      "144 record inserted 144\n",
      "145 record inserted 145\n",
      "146 record inserted 146\n",
      "147 record inserted 147\n",
      "148 record inserted 148\n",
      "149 record inserted 149\n",
      "150 record inserted 150\n"
     ]
    }
   ],
   "source": [
    "temp =0\n",
    "for i in range(len(dfp)):\n",
    "    productid = int(dfp['productid'].iloc[i])\n",
    "    productcode = str(dfp['productcode'].iloc[i])\n",
    "    productname = str(dfp['productname'].iloc[i])\n",
    "    sku = str(dfp['sku'].iloc[i])\n",
    "    rate = int(dfp['rate'].iloc[i])\n",
    "    isactive = str(dfp['isactive'].iloc[i])\n",
    "    \n",
    "    \n",
    "    query = (\"insert into product_master(productid,productcode, productname, sku, rate, isactive)\"\n",
    "         \"values (%s, %s, %s, %s, %s, %s)\")\n",
    "\n",
    "    val = (productid,productcode, productname, sku, rate, isactive)\n",
    "    cursor.execute(query,val)\n",
    "    conn.commit()\n",
    "    temp = temp + 1\n",
    "    print(temp, \"record inserted\",productid)"
   ]
  }
 ],
 "metadata": {
  "kernelspec": {
   "display_name": "Python 3",
   "language": "python",
   "name": "python3"
  },
  "language_info": {
   "codemirror_mode": {
    "name": "ipython",
    "version": 3
   },
   "file_extension": ".py",
   "mimetype": "text/x-python",
   "name": "python",
   "nbconvert_exporter": "python",
   "pygments_lexer": "ipython3",
   "version": "3.8.8"
  }
 },
 "nbformat": 4,
 "nbformat_minor": 5
}
