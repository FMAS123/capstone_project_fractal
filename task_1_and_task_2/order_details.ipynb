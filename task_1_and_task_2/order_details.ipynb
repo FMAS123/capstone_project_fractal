{
 "cells": [
  {
   "cell_type": "code",
   "execution_count": 68,
   "id": "1bdd91aa",
   "metadata": {},
   "outputs": [
    {
     "data": {
      "text/plain": [
       "['en_IN']"
      ]
     },
     "execution_count": 68,
     "metadata": {},
     "output_type": "execute_result"
    }
   ],
   "source": [
    "import pandas as pd\n",
    "from collections import defaultdict\n",
    "\n",
    "from faker import Faker\n",
    "import uuid\n",
    "from faker.providers import DynamicProvider\n",
    "fake = Faker(['en_IN'])\n",
    "\n",
    "# Will return ['en_US']\n",
    "fake.locales"
   ]
  },
  {
   "cell_type": "code",
   "execution_count": 69,
   "id": "434ad257",
   "metadata": {},
   "outputs": [
    {
     "data": {
      "text/plain": [
       "'InProgress'"
      ]
     },
     "execution_count": 69,
     "metadata": {},
     "output_type": "execute_result"
    }
   ],
   "source": [
    "import random\n",
    "order_status = DynamicProvider(\n",
    "     provider_name=\"order_status\",\n",
    "     elements=[\"InProgress\", \"Received\", \"Delivered\"],\n",
    ")\n",
    "\n",
    "\n",
    "\n",
    "fake = Faker(['en_IN'])\n",
    "\n",
    "# then add new provider to faker instance\n",
    "fake.add_provider(order_status)\n",
    "\n",
    "# now you can use:\n",
    "fake.order_status()\n"
   ]
  },
  {
   "cell_type": "code",
   "execution_count": 20,
   "id": "994943fe",
   "metadata": {},
   "outputs": [],
   "source": [
    "fake_data = defaultdict(list)"
   ]
  },
  {
   "cell_type": "code",
   "execution_count": 21,
   "id": "ad33428d",
   "metadata": {},
   "outputs": [],
   "source": [
    "fake.unique.clear()\n",
    "for _ in range(75000):\n",
    "    fake_data['orderid'].append(fake.random_int(1,25000))\n",
    "    fake_data['customerid'].append(fake.random_int(1,1000))\n",
    "    fake_data['order_status_update_timestamp'].append(fake.date_time_between(start_date = \"-1y\", end_date = \"now\"))\n",
    "    fake_data['order_status'].append(fake.order_status())"
   ]
  },
  {
   "cell_type": "code",
   "execution_count": 22,
   "id": "8a4c412d",
   "metadata": {},
   "outputs": [],
   "source": [
    "dfo = pd.DataFrame(fake_data)"
   ]
  },
  {
   "cell_type": "code",
   "execution_count": 23,
   "id": "c08e3f36",
   "metadata": {},
   "outputs": [
    {
     "data": {
      "text/html": [
       "<div>\n",
       "<style scoped>\n",
       "    .dataframe tbody tr th:only-of-type {\n",
       "        vertical-align: middle;\n",
       "    }\n",
       "\n",
       "    .dataframe tbody tr th {\n",
       "        vertical-align: top;\n",
       "    }\n",
       "\n",
       "    .dataframe thead th {\n",
       "        text-align: right;\n",
       "    }\n",
       "</style>\n",
       "<table border=\"1\" class=\"dataframe\">\n",
       "  <thead>\n",
       "    <tr style=\"text-align: right;\">\n",
       "      <th></th>\n",
       "      <th>orderid</th>\n",
       "      <th>customerid</th>\n",
       "      <th>order_status_update_timestamp</th>\n",
       "      <th>order_status</th>\n",
       "    </tr>\n",
       "  </thead>\n",
       "  <tbody>\n",
       "    <tr>\n",
       "      <th>0</th>\n",
       "      <td>10210</td>\n",
       "      <td>462</td>\n",
       "      <td>2022-01-16 07:39:22</td>\n",
       "      <td>InProgress</td>\n",
       "    </tr>\n",
       "    <tr>\n",
       "      <th>1</th>\n",
       "      <td>2898</td>\n",
       "      <td>786</td>\n",
       "      <td>2021-09-12 03:59:49</td>\n",
       "      <td>Delivered</td>\n",
       "    </tr>\n",
       "    <tr>\n",
       "      <th>2</th>\n",
       "      <td>12630</td>\n",
       "      <td>737</td>\n",
       "      <td>2021-09-23 20:41:47</td>\n",
       "      <td>Received</td>\n",
       "    </tr>\n",
       "    <tr>\n",
       "      <th>3</th>\n",
       "      <td>3587</td>\n",
       "      <td>286</td>\n",
       "      <td>2021-11-23 03:10:15</td>\n",
       "      <td>InProgress</td>\n",
       "    </tr>\n",
       "    <tr>\n",
       "      <th>4</th>\n",
       "      <td>16333</td>\n",
       "      <td>857</td>\n",
       "      <td>2021-12-26 18:59:49</td>\n",
       "      <td>InProgress</td>\n",
       "    </tr>\n",
       "    <tr>\n",
       "      <th>...</th>\n",
       "      <td>...</td>\n",
       "      <td>...</td>\n",
       "      <td>...</td>\n",
       "      <td>...</td>\n",
       "    </tr>\n",
       "    <tr>\n",
       "      <th>74995</th>\n",
       "      <td>10594</td>\n",
       "      <td>960</td>\n",
       "      <td>2021-06-26 07:23:05</td>\n",
       "      <td>InProgress</td>\n",
       "    </tr>\n",
       "    <tr>\n",
       "      <th>74996</th>\n",
       "      <td>2963</td>\n",
       "      <td>155</td>\n",
       "      <td>2021-07-28 16:08:55</td>\n",
       "      <td>Received</td>\n",
       "    </tr>\n",
       "    <tr>\n",
       "      <th>74997</th>\n",
       "      <td>17300</td>\n",
       "      <td>373</td>\n",
       "      <td>2022-05-03 17:17:54</td>\n",
       "      <td>Delivered</td>\n",
       "    </tr>\n",
       "    <tr>\n",
       "      <th>74998</th>\n",
       "      <td>10795</td>\n",
       "      <td>206</td>\n",
       "      <td>2021-08-14 09:20:23</td>\n",
       "      <td>Delivered</td>\n",
       "    </tr>\n",
       "    <tr>\n",
       "      <th>74999</th>\n",
       "      <td>20798</td>\n",
       "      <td>498</td>\n",
       "      <td>2021-12-08 05:15:21</td>\n",
       "      <td>Received</td>\n",
       "    </tr>\n",
       "  </tbody>\n",
       "</table>\n",
       "<p>75000 rows × 4 columns</p>\n",
       "</div>"
      ],
      "text/plain": [
       "       orderid  customerid order_status_update_timestamp order_status\n",
       "0        10210         462           2022-01-16 07:39:22   InProgress\n",
       "1         2898         786           2021-09-12 03:59:49    Delivered\n",
       "2        12630         737           2021-09-23 20:41:47     Received\n",
       "3         3587         286           2021-11-23 03:10:15   InProgress\n",
       "4        16333         857           2021-12-26 18:59:49   InProgress\n",
       "...        ...         ...                           ...          ...\n",
       "74995    10594         960           2021-06-26 07:23:05   InProgress\n",
       "74996     2963         155           2021-07-28 16:08:55     Received\n",
       "74997    17300         373           2022-05-03 17:17:54    Delivered\n",
       "74998    10795         206           2021-08-14 09:20:23    Delivered\n",
       "74999    20798         498           2021-12-08 05:15:21     Received\n",
       "\n",
       "[75000 rows x 4 columns]"
      ]
     },
     "execution_count": 23,
     "metadata": {},
     "output_type": "execute_result"
    }
   ],
   "source": [
    "dfo"
   ]
  },
  {
   "cell_type": "code",
   "execution_count": null,
   "id": "569cc4fa",
   "metadata": {},
   "outputs": [],
   "source": [
    "orderid\tcustomerid\torder_status_update_timestamp\torder_status"
   ]
  },
  {
   "cell_type": "code",
   "execution_count": 30,
   "id": "06332679",
   "metadata": {},
   "outputs": [
    {
     "data": {
      "text/plain": [
       "23719"
      ]
     },
     "execution_count": 30,
     "metadata": {},
     "output_type": "execute_result"
    }
   ],
   "source": [
    "len(dfo[\"orderid\"].unique())"
   ]
  },
  {
   "cell_type": "code",
   "execution_count": 31,
   "id": "c090fae4",
   "metadata": {},
   "outputs": [
    {
     "data": {
      "text/plain": [
       "1000"
      ]
     },
     "execution_count": 31,
     "metadata": {},
     "output_type": "execute_result"
    }
   ],
   "source": [
    "len(dfo[\"customerid\"].unique())"
   ]
  },
  {
   "cell_type": "code",
   "execution_count": 32,
   "id": "da38b2be",
   "metadata": {},
   "outputs": [
    {
     "data": {
      "text/plain": [
       "74915"
      ]
     },
     "execution_count": 32,
     "metadata": {},
     "output_type": "execute_result"
    }
   ],
   "source": [
    "len(dfo[\"order_status_update_timestamp\"].unique())"
   ]
  },
  {
   "cell_type": "code",
   "execution_count": 75,
   "id": "8d97aa2a",
   "metadata": {},
   "outputs": [
    {
     "data": {
      "text/plain": [
       "3"
      ]
     },
     "execution_count": 75,
     "metadata": {},
     "output_type": "execute_result"
    }
   ],
   "source": [
    "len(dfo[\"order_status\"].unique())"
   ]
  },
  {
   "cell_type": "code",
   "execution_count": 76,
   "id": "e7997dbd",
   "metadata": {},
   "outputs": [],
   "source": [
    "import psycopg2\n",
    "#establishing the connection\n",
    "conn = psycopg2.connect(\n",
    "   database=\"postgres\", user='postgres', password='Krishna839#', host='34.122.187.243', port= '5432'\n",
    ")\n",
    "#Creating a cursor object using the cursor() method\n",
    "cursor = conn.cursor()"
   ]
  },
  {
   "cell_type": "code",
   "execution_count": 77,
   "id": "004bf0e3",
   "metadata": {},
   "outputs": [],
   "source": [
    "create_table = ''' drop table if exists order_details; create table order_details(\n",
    "                                orderid int ,\n",
    "                                customerid int,\n",
    "                                order_status_update_timestamp timestamp,\n",
    "                                order_status varchar(255),\n",
    "                                CONSTRAINT fk_customer\n",
    "                                    FOREIGN KEY(customerid) \n",
    "                                        REFERENCES customer_master(customerid))\n",
    "                                '''"
   ]
  },
  {
   "cell_type": "code",
   "execution_count": 39,
   "id": "cc30e993",
   "metadata": {},
   "outputs": [
    {
     "ename": "SyntaxError",
     "evalue": "invalid syntax (<ipython-input-39-f24822a454a7>, line 1)",
     "output_type": "error",
     "traceback": [
      "\u001b[1;36m  File \u001b[1;32m\"<ipython-input-39-f24822a454a7>\"\u001b[1;36m, line \u001b[1;32m1\u001b[0m\n\u001b[1;33m    orderid\tcustomerid\torder_status_update_timestamp\torder_status\u001b[0m\n\u001b[1;37m           \t^\u001b[0m\n\u001b[1;31mSyntaxError\u001b[0m\u001b[1;31m:\u001b[0m invalid syntax\n"
     ]
    }
   ],
   "source": [
    "orderid\tcustomerid\torder_status_update_timestamp\torder_status"
   ]
  },
  {
   "cell_type": "code",
   "execution_count": 78,
   "id": "95d3a8e9",
   "metadata": {},
   "outputs": [],
   "source": [
    "cursor.execute(create_table)\n",
    "conn.commit()"
   ]
  },
  {
   "cell_type": "code",
   "execution_count": 79,
   "id": "e18e0fbb",
   "metadata": {},
   "outputs": [],
   "source": [
    "dfo.to_csv(\"order_details\",index=False, header=False)"
   ]
  },
  {
   "cell_type": "code",
   "execution_count": null,
   "id": "cd418706",
   "metadata": {},
   "outputs": [],
   "source": []
  },
  {
   "cell_type": "code",
   "execution_count": null,
   "id": "bae0e173",
   "metadata": {},
   "outputs": [],
   "source": []
  },
  {
   "cell_type": "code",
   "execution_count": null,
   "id": "3b5f7c34",
   "metadata": {},
   "outputs": [],
   "source": []
  },
  {
   "cell_type": "code",
   "execution_count": null,
   "id": "a9a833a8",
   "metadata": {},
   "outputs": [],
   "source": []
  }
 ],
 "metadata": {
  "kernelspec": {
   "display_name": "Python 3",
   "language": "python",
   "name": "python3"
  },
  "language_info": {
   "codemirror_mode": {
    "name": "ipython",
    "version": 3
   },
   "file_extension": ".py",
   "mimetype": "text/x-python",
   "name": "python",
   "nbconvert_exporter": "python",
   "pygments_lexer": "ipython3",
   "version": "3.8.8"
  }
 },
 "nbformat": 4,
 "nbformat_minor": 5
}
